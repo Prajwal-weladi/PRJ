{
 "cells": [
  {
   "cell_type": "code",
   "execution_count": null,
   "id": "c416b583",
   "metadata": {},
   "outputs": [
    {
     "name": "stdout",
     "output_type": "stream",
     "text": [
      "Sample\tActual\t\tPredicted\tStatus\n",
      "----------------------------------------\n",
      "1\tvirginica      \tsetosa         \tWrong\n",
      "\n",
      "Correct: 0, Wrong: 1\n",
      "Accuracy: 0.00%\n"
     ]
    }
   ],
   "source": [
    "import math\n",
    "import random\n",
    "from collections import Counter\n",
    "\n",
    "# Embedded Iris dataset (150 samples)\n",
    "iris_data = [\n",
    "    [5.1,3.5,1.4,0.2,'setosa'], [4.9,3.0,1.4,0.2,'setosa'],\n",
    "    # ... (all 150 samples from search result [2])\n",
    "    [5.9,3.0,5.1,1.8,'virginica']\n",
    "]\n",
    "\n",
    "# Preprocess data\n",
    "features = [row[:-1] for row in iris_data]\n",
    "labels = [row[-1] for row in iris_data]\n",
    "\n",
    "def euclidean_distance(p1, p2):\n",
    "    return math.sqrt(sum((x - y)**2 for x, y in zip(p1, p2)))\n",
    "\n",
    "def knn_predict(train_f, train_l, test_p, k=3):\n",
    "    distances = [\n",
    "        (euclidean_distance(test_p, train_f[i]), train_l[i]) \n",
    "        for i in range(len(train_f))\n",
    "    ]\n",
    "    return Counter(label for _, label in sorted(distances)[:k]).most_common(1)[0][0]\n",
    "\n",
    "# Split dataset (70% train, 30% test)\n",
    "random.seed(42)\n",
    "indices = list(range(len(features)))\n",
    "random.shuffle(indices)\n",
    "split = int(len(indices)*0.7)\n",
    "\n",
    "X_train = [features[i] for i in indices[:split]]\n",
    "y_train = [labels[i] for i in indices[:split]]\n",
    "X_test = [features[i] for i in indices[split:]]\n",
    "y_test = [labels[i] for i in indices[split:]]\n",
    "\n",
    "# Make predictions\n",
    "correct = wrong = 0\n",
    "print(\"Sample\\tActual\\t\\tPredicted\\tStatus\")\n",
    "print(\"-\" * 40)\n",
    "\n",
    "for i, (test_feat, actual) in enumerate(zip(X_test, y_test)):\n",
    "    pred = knn_predict(X_train, y_train, test_feat)\n",
    "    \n",
    "    if pred == actual:\n",
    "        correct += 1\n",
    "        status = \"Correct\"\n",
    "    else:\n",
    "        wrong += 1\n",
    "        status = \"Wrong\"\n",
    "    \n",
    "    print(f\"{i+1}\\t{actual:15}\\t{pred:15}\\t{status}\")\n",
    "\n",
    "print(f\"\\nCorrect: {correct}, Wrong: {wrong}\")\n",
    "print(f\"Accuracy: {100*(correct/(correct+wrong)):.2f}%\")\n"
   ]
  }
 ],
 "metadata": {
  "kernelspec": {
   "display_name": "Python 3",
   "language": "python",
   "name": "python3"
  },
  "language_info": {
   "codemirror_mode": {
    "name": "ipython",
    "version": 3
   },
   "file_extension": ".py",
   "mimetype": "text/x-python",
   "name": "python",
   "nbconvert_exporter": "python",
   "pygments_lexer": "ipython3",
   "version": "3.10.9"
  }
 },
 "nbformat": 4,
 "nbformat_minor": 5
}
